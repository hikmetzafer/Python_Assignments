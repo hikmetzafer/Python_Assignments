{
 "cells": [
  {
   "cell_type": "code",
   "execution_count": 2,
   "metadata": {},
   "outputs": [
    {
     "name": "stdin",
     "output_type": "stream",
     "text": [
      "Please enter your name abuzer\n"
     ]
    },
    {
     "name": "stdout",
     "output_type": "stream",
     "text": [
      "Hello, Abuzer! The password is : 'Abcd123!'\n"
     ]
    }
   ],
   "source": [
    "my_name = \"Abuzer\"\n",
    "my_pass = \"Abcd123!\"\n",
    "\n",
    "name = input('Please enter your name').title()\n",
    "\n",
    "if name == my_name.title().strip():\n",
    "    print(f\"Hello, {name}! The password is : '{my_pass}'\")\n",
    "else:\n",
    "    print(f\"Hello, {name}! See you later.\")\n",
    "    \n",
    "#https://github.com/hikmetzafer/Python_Workings.git"
   ]
  },
  {
   "cell_type": "code",
   "execution_count": null,
   "metadata": {},
   "outputs": [],
   "source": []
  }
 ],
 "metadata": {
  "kernelspec": {
   "display_name": "Python 3",
   "language": "python",
   "name": "python3"
  },
  "language_info": {
   "codemirror_mode": {
    "name": "ipython",
    "version": 3
   },
   "file_extension": ".py",
   "mimetype": "text/x-python",
   "name": "python",
   "nbconvert_exporter": "python",
   "pygments_lexer": "ipython3",
   "version": "3.7.6"
  }
 },
 "nbformat": 4,
 "nbformat_minor": 4
}
