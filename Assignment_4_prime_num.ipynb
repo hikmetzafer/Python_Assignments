{
 "cells": [
  {
   "cell_type": "code",
   "execution_count": 11,
   "metadata": {},
   "outputs": [
    {
     "name": "stdin",
     "output_type": "stream",
     "text": [
      "Please enter a number to check if it is prime number kj\n",
      "Only decimal numbers please 7.5\n",
      "Only decimal numbers please -7\n",
      "Only decimal numbers please 17\n"
     ]
    },
    {
     "name": "stdout",
     "output_type": "stream",
     "text": [
      "17 is a prime number\n"
     ]
    }
   ],
   "source": [
    "n = input(\"Please enter a number to check if it is prime number\")\n",
    "\n",
    "while True:\n",
    "    if not n.isdigit():\n",
    "        n = input(\"Only decimal numbers please\")\n",
    "    else:\n",
    "        break\n",
    "        \n",
    "n = int(n)\n",
    "\n",
    "for i in range (2, n):\n",
    "    if n % i == 0:\n",
    "        print(f\"{n} is not a prime number\")\n",
    "        break\n",
    "    elif i == n - 1:\n",
    "        print(f\"{n} is a prime number\")\n",
    "        \n",
    "            "
   ]
  },
  {
   "cell_type": "code",
   "execution_count": null,
   "metadata": {},
   "outputs": [],
   "source": []
  }
 ],
 "metadata": {
  "kernelspec": {
   "display_name": "Python 3",
   "language": "python",
   "name": "python3"
  },
  "language_info": {
   "codemirror_mode": {
    "name": "ipython",
    "version": 3
   },
   "file_extension": ".py",
   "mimetype": "text/x-python",
   "name": "python",
   "nbconvert_exporter": "python",
   "pygments_lexer": "ipython3",
   "version": "3.7.6"
  }
 },
 "nbformat": 4,
 "nbformat_minor": 4
}
