{
 "cells": [
  {
   "cell_type": "code",
   "execution_count": null,
   "metadata": {},
   "outputs": [],
   "source": [
    "age = input('Are you a cigarette addict older than 75 years old? Yes or No please.').title().strip()\n",
    "chronic = input('Do you have a severe chronic disease? Yes or No please.').title().strip()\n",
    "immune = input('Is your immune system too weak? Yes or No please.').title().strip()\n",
    "\n",
    "if age == 'Yes' or chronic == 'Yes' or immune == 'Yes':\n",
    "    covid_status = \"You are in risky group\"\n",
    "else:\n",
    "    covid_status = \"You are not in risky group\"\n",
    "       \n",
    "print(covid_status)\n"
   ]
  },
  {
   "cell_type": "code",
   "execution_count": null,
   "metadata": {},
   "outputs": [],
   "source": []
  },
  {
   "cell_type": "code",
   "execution_count": null,
   "metadata": {},
   "outputs": [],
   "source": []
  }
 ],
 "metadata": {
  "kernelspec": {
   "display_name": "Python 3",
   "language": "python",
   "name": "python3"
  },
  "language_info": {
   "codemirror_mode": {
    "name": "ipython",
    "version": 3
   },
   "file_extension": ".py",
   "mimetype": "text/x-python",
   "name": "python",
   "nbconvert_exporter": "python",
   "pygments_lexer": "ipython3",
   "version": "3.7.6"
  }
 },
 "nbformat": 4,
 "nbformat_minor": 4
}
