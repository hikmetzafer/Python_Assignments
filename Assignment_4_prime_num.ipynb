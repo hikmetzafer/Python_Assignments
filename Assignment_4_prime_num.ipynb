{
 "cells": [
  {
   "cell_type": "code",
   "execution_count": 41,
   "metadata": {},
   "outputs": [
    {
     "name": "stdin",
     "output_type": "stream",
     "text": [
      "Please enter a number to check if it is prime number 999983\n"
     ]
    },
    {
     "name": "stdout",
     "output_type": "stream",
     "text": [
      "999983 is a prime number\n"
     ]
    }
   ],
   "source": [
    "n = input(\"Please enter a number to check if it is prime number\")\n",
    "\n",
    "while True:\n",
    "    if not n.isdigit():\n",
    "        n = input(\"Only decimal numbers please\")\n",
    "    else:\n",
    "        break\n",
    "        \n",
    "n = int(n)\n",
    "\n",
    "if n == 0 or n == 1:\n",
    "    result = 'is not'\n",
    "elif n == 2:\n",
    "    result = 'is'\n",
    "\n",
    "for i in range (2, n):\n",
    "    if n % i == 0:\n",
    "        result = 'is not'\n",
    "        break\n",
    "    elif i == n - 1:\n",
    "        result = 'is'\n",
    "\n",
    "print(f\"{n} {result} a prime number\")                 "
   ]
  },
  {
   "cell_type": "code",
   "execution_count": null,
   "metadata": {},
   "outputs": [],
   "source": []
  },
  {
   "cell_type": "code",
   "execution_count": null,
   "metadata": {},
   "outputs": [],
   "source": []
  },
  {
   "cell_type": "code",
   "execution_count": null,
   "metadata": {},
   "outputs": [],
   "source": []
  }
 ],
 "metadata": {
  "kernelspec": {
   "display_name": "Python 3",
   "language": "python",
   "name": "python3"
  },
  "language_info": {
   "codemirror_mode": {
    "name": "ipython",
    "version": 3
   },
   "file_extension": ".py",
   "mimetype": "text/x-python",
   "name": "python",
   "nbconvert_exporter": "python",
   "pygments_lexer": "ipython3",
   "version": "3.7.6"
  }
 },
 "nbformat": 4,
 "nbformat_minor": 4
}
