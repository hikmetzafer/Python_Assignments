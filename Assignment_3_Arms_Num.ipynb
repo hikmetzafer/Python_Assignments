{
 "cells": [
  {
   "cell_type": "code",
   "execution_count": 1,
   "metadata": {},
   "outputs": [
    {
     "name": "stdin",
     "output_type": "stream",
     "text": [
      "Please insert a positive number to check if it is n-Armstong number zafer\n"
     ]
    },
    {
     "name": "stdout",
     "output_type": "stream",
     "text": [
      "Do not use any entries other than numeric values\n"
     ]
    },
    {
     "name": "stdin",
     "output_type": "stream",
     "text": [
      "Please insert a positive number to check if it is n-Armstong number 5.4\n"
     ]
    },
    {
     "name": "stdout",
     "output_type": "stream",
     "text": [
      "Please enter an integer number\n"
     ]
    },
    {
     "name": "stdin",
     "output_type": "stream",
     "text": [
      "Please insert a positive number to check if it is n-Armstong number 5\n"
     ]
    },
    {
     "name": "stdout",
     "output_type": "stream",
     "text": [
      "5 is an Armstrong number\n"
     ]
    }
   ],
   "source": [
    "while True:\n",
    "    number = input('Please insert a positive number to check if it is n-Armstong number')\n",
    "    num_list = list(number)\n",
    "    try:\n",
    "        number = int(number)\n",
    "    except ValueError:\n",
    "        try:\n",
    "            number = float(number)\n",
    "            print('Please enter an integer number')\n",
    "        except ValueError:\n",
    "            print('Do not use any entries other than numeric values')              \n",
    "    else:\n",
    "        break\n",
    "        \n",
    "total = 0\n",
    "\n",
    "for n in num_list:\n",
    "    n = int(n)\n",
    "    total += n**len(num_list)\n",
    "        \n",
    "if  total == int(number):\n",
    "    result = 'is an'\n",
    "else:\n",
    "    result = 'is not an'\n",
    "    \n",
    "print(f\"{number} {result} Armstrong number\")\n"
   ]
  },
  {
   "cell_type": "code",
   "execution_count": null,
   "metadata": {},
   "outputs": [],
   "source": []
  }
 ],
 "metadata": {
  "kernelspec": {
   "display_name": "Python 3",
   "language": "python",
   "name": "python3"
  },
  "language_info": {
   "codemirror_mode": {
    "name": "ipython",
    "version": 3
   },
   "file_extension": ".py",
   "mimetype": "text/x-python",
   "name": "python",
   "nbconvert_exporter": "python",
   "pygments_lexer": "ipython3",
   "version": "3.7.6"
  }
 },
 "nbformat": 4,
 "nbformat_minor": 4
}
