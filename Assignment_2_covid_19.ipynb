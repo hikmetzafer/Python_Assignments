{
 "cells": [
  {
   "cell_type": "code",
   "execution_count": 7,
   "metadata": {},
   "outputs": [
    {
     "name": "stdin",
     "output_type": "stream",
     "text": [
      "Are you a cigarette addict older than 75 years old? Yes or No please. no\n",
      "Do you have a severe chronic disease? Yes or No please. yes\n",
      "Is your immune system too weak? Yes or No please. no\n"
     ]
    },
    {
     "name": "stdout",
     "output_type": "stream",
     "text": [
      "You are in risky group\n"
     ]
    }
   ],
   "source": [
    "#Task : Estimating the risk of death from coronavirus. Write a program that;\n",
    "\n",
    "#Takes \"Yes\" or \"No\" from the user as an answer to the following questions :\n",
    "\n",
    "#Are you a cigarette addict older than 75 years old? Variable → age\n",
    "\n",
    "#Do you have a severe chronic disease? Variable → chronic\n",
    "\n",
    "#Is your immune system too weak? Variable → immune\n",
    "\n",
    "#Set a logical algorithm using boolean logic operators (and/or) and use if-statements with \n",
    "#the given variables in order to print out us a message : \"You are in risky group\"(if True ) or \n",
    "#\"You are not in risky group\" (if False).\n",
    "\n",
    "\n",
    "age = input('Are you a cigarette addict older than 75 years old? Yes or No please.').title().strip()\n",
    "chronic = input('Do you have a severe chronic disease? Yes or No please.').title().strip()\n",
    "immune = input('Is your immune system too weak? Yes or No please.').title().strip()\n",
    "\n",
    "list_covid = [age, chronic, immune]\n",
    "\n",
    "if 'Yes' in list_covid:\n",
    "    status = \"You are in risky group\"\n",
    "else:\n",
    "    status = \"You are not in risky group\"\n",
    "    \n",
    "print(status)\n",
    "\n",
    "\n",
    "\n"
   ]
  },
  {
   "cell_type": "code",
   "execution_count": 19,
   "metadata": {},
   "outputs": [
    {
     "name": "stdin",
     "output_type": "stream",
     "text": [
      "Are you a cigarette addict older than 75 years old? Yes or No please. no\n",
      "Do you have a severe chronic disease? Yes or No please. no\n",
      "Is your immune system too weak? Yes or No please. no\n"
     ]
    },
    {
     "name": "stdout",
     "output_type": "stream",
     "text": [
      "No\n",
      "No No No You are not in risky group\n"
     ]
    }
   ],
   "source": [
    "age = input('Are you a cigarette addict older than 75 years old? Yes or No please.').title().strip()\n",
    "chronic = input('Do you have a severe chronic disease? Yes or No please.').title().strip()\n",
    "immune = input('Is your immune system too weak? Yes or No please.').title().strip()\n",
    "\n",
    "if age == 'Yes' or chronic == 'Yes' or immune == 'Yes':\n",
    "    covid_status = \"You are in risky group\"\n",
    "else:\n",
    "    covid_status = \"You are not in risky group\"\n",
    "       \n",
    "print(age, chronic, immune, covid_status)\n",
    "\n",
    "#https://github.com/hikmetzafer/Python_Workings.git"
   ]
  },
  {
   "cell_type": "code",
   "execution_count": null,
   "metadata": {},
   "outputs": [],
   "source": []
  }
 ],
 "metadata": {
  "kernelspec": {
   "display_name": "Python 3",
   "language": "python",
   "name": "python3"
  },
  "language_info": {
   "codemirror_mode": {
    "name": "ipython",
    "version": 3
   },
   "file_extension": ".py",
   "mimetype": "text/x-python",
   "name": "python",
   "nbconvert_exporter": "python",
   "pygments_lexer": "ipython3",
   "version": "3.7.6"
  }
 },
 "nbformat": 4,
 "nbformat_minor": 4
}
